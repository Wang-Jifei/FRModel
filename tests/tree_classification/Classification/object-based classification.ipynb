{
 "cells": [
  {
   "cell_type": "markdown",
   "metadata": {},
   "source": [
    "# Object-based Classification of Tree species\n",
    "### Require packages:\n",
    "opencv-python, gdal, geopandas, matplotlib, mpl_toolkits, numpy, ogr, pandas, scipy, scikitplot, sklearn, skimage, time\n",
    "### Implementation steps:\n",
    "1. Image segmentation\n",
    "2. Object-based feature extraction\n",
    "3. Training RF/SVM classifier\n",
    "4. Assessment of classification results"
   ]
  },
  {
   "cell_type": "code",
   "execution_count": 25,
   "metadata": {
    "scrolled": true
   },
   "outputs": [
    {
     "name": "stdout",
     "output_type": "stream",
     "text": [
      "Environment path: D:\\Program Files\\ArcGIS\\Pro\\bin\\Python\\envs\\ge5219\\python.exe\n"
     ]
    }
   ],
   "source": [
    "# Define the working environment\n",
    "import sys\n",
    "print('Environment path:',sys.executable)"
   ]
  },
  {
   "cell_type": "code",
   "execution_count": 26,
   "metadata": {},
   "outputs": [
    {
     "name": "stdout",
     "output_type": "stream",
     "text": [
      "Import succesfully!\n"
     ]
    }
   ],
   "source": [
    "import ogr\n",
    "import gdal\n",
    "import time\n",
    "import scipy\n",
    "import numpy as np\n",
    "import pandas as pd\n",
    "import geopandas as gpd\n",
    "\n",
    "from skimage import exposure\n",
    "from skimage.feature import peak_local_max\n",
    "from skimage.segmentation import quickshift, slic, watershed\n",
    "\n",
    "import matplotlib.pyplot as plt\n",
    "from mpl_toolkits.axes_grid1 import make_axes_locatable\n",
    "\n",
    "\n",
    "print('Import succesfully!')"
   ]
  },
  {
   "cell_type": "code",
   "execution_count": 27,
   "metadata": {},
   "outputs": [
    {
     "name": "stdout",
     "output_type": "stream",
     "text": [
      "Input image has 40 bands.\n"
     ]
    }
   ],
   "source": [
    "# Read multi-bands feature image\n",
    "naip_fn = 'data/features.tif'# The path of input feature image\n",
    "driverTiff = gdal.GetDriverByName('GTiff') # define image format\n",
    "naip_ds = gdal.Open(naip_fn) # Load image\n",
    "nbands = naip_ds.RasterCount # Count the bands\n",
    "band_data = [] # Initialize band array\n",
    "print('Input image has',nbands, 'bands.') # Print the number of feature bands\n",
    "\n",
    "for i in range(1, nbands + 1): # Loop through all bands\n",
    "    band = naip_ds.GetRasterBand(i).ReadAsArray() # Tranform raster to arrray\n",
    "    band_data.append(band) # add each band\n",
    "band_data = np.dstack(band_data) # Tranform gdal image to numpy.array\n",
    "\n",
    "img = exposure.rescale_intensity(band_data) # Return image after stretching or shrinking its intensity levels"
   ]
  },
  {
   "cell_type": "markdown",
   "metadata": {},
   "source": [
    "## Import MRS segmentation results "
   ]
  },
  {
   "cell_type": "code",
   "execution_count": 48,
   "metadata": {},
   "outputs": [
    {
     "name": "stdout",
     "output_type": "stream",
     "text": [
      "Segmentation image size: (2220, 1412)\n"
     ]
    }
   ],
   "source": [
    "# Load MRS segmentation results\n",
    "set_scale = 80 # Change segmentation scale\n",
    "segments_fn = ('data/mrs_seg/mrs_seg_{}.tif').format(set_scale) # Path of MRS segmentation results\n",
    "segments_ds = gdal.Open(segments_fn) # Open image\n",
    "segments = segments_ds.GetRasterBand(1).ReadAsArray() # Transform to numpy.array\n",
    "\n",
    "print('Segmentation image size:', segments.shape) # print(segments.shape) "
   ]
  },
  {
   "cell_type": "markdown",
   "metadata": {},
   "source": [
    "## Object-based feature extraction\n",
    "### 1. Function segment_features(segment_pixels)\n",
    "- **Input:** segmented object (2D array)\n",
    "- **Output:** object features (1D vector)\n"
   ]
  },
  {
   "cell_type": "code",
   "execution_count": 49,
   "metadata": {},
   "outputs": [],
   "source": [
    "# Object-based feature extraction\n",
    "\n",
    "## Function segment_features(segment_pixels)\n",
    "## Input: segmented object (2D array)\n",
    "## Output: object features (1D vector)\n",
    "\n",
    "### Calculate mean, max, skewness, kurtoisis, std of each object from feature image\n",
    "def segment_features(segment_pixels): # extract object-based features\n",
    "    features = [] # Initialize feature\n",
    "    npixels, nbands = segment_pixels.shape # Calculate pixels and bands\n",
    "    for b in range(nbands): # Loop through every bands\n",
    "        stats = scipy.stats.describe(segment_pixels[:, b]) # Calculate statistics of each objects\n",
    "        band_stats = list(stats.minmax) + list(stats)[2:]  # Save the features to list\n",
    "        # print(band_stats) \n",
    "        if npixels == 1: \n",
    "            # in this case the variance = nan, change it 0.0\n",
    "            band_stats[3] = 0.0 # if the object only contains one pixel, then set the statistics as 0.0\n",
    "        features += band_stats # add each bands featurs into one list\n",
    "    return features # return list of features\n"
   ]
  },
  {
   "cell_type": "markdown",
   "metadata": {},
   "source": [
    "### 2. Save Object-based feature to csv"
   ]
  },
  {
   "cell_type": "code",
   "execution_count": 50,
   "metadata": {},
   "outputs": [
    {
     "name": "stderr",
     "output_type": "stream",
     "text": [
      "D:\\Program Files\\ArcGIS\\Pro\\bin\\Python\\envs\\ge5219\\lib\\site-packages\\numpy\\core\\fromnumeric.py:87: RuntimeWarning: overflow encountered in reduce\n",
      "  return ufunc.reduce(obj, axis, dtype, out, **passkwargs)\n",
      "D:\\Program Files\\ArcGIS\\Pro\\bin\\Python\\envs\\ge5219\\lib\\site-packages\\numpy\\core\\_methods.py:160: RuntimeWarning: overflow encountered in reduce\n",
      "  ret = umr_sum(arr, axis, dtype, out, keepdims)\n",
      "D:\\Program Files\\ArcGIS\\Pro\\bin\\Python\\envs\\ge5219\\lib\\site-packages\\numpy\\core\\_methods.py:192: RuntimeWarning: overflow encountered in reduce\n",
      "  arrmean = umr_sum(arr, axis, dtype, keepdims=True)\n",
      "D:\\Program Files\\ArcGIS\\Pro\\bin\\Python\\envs\\ge5219\\lib\\site-packages\\scipy\\stats\\stats.py:1234: RuntimeWarning: invalid value encountered in true_divide\n",
      "  lambda m2, m3: m3 / m2**1.5,\n",
      "D:\\Program Files\\ArcGIS\\Pro\\bin\\Python\\envs\\ge5219\\lib\\site-packages\\numpy\\core\\fromnumeric.py:3622: RuntimeWarning: Degrees of freedom <= 0 for slice\n",
      "  **kwargs)\n",
      "D:\\Program Files\\ArcGIS\\Pro\\bin\\Python\\envs\\ge5219\\lib\\site-packages\\numpy\\core\\_methods.py:226: RuntimeWarning: invalid value encountered in true_divide\n",
      "  ret = ret.dtype.type(ret / rcount)\n"
     ]
    },
    {
     "name": "stdout",
     "output_type": "stream",
     "text": [
      "created 210 objects with 240 variables in 18.621041774749756 seconds\n"
     ]
    }
   ],
   "source": [
    "# Create Objects\n",
    "obj_start = time.time() # record start time of Objects creation\n",
    "segment_ids = np.unique(segments) # Extraction unique values of segments\n",
    "objects = [] # Create list to save objects\n",
    "object_ids = [] # Create list ot save objects' id\n",
    "\n",
    "# Creat dataframe to save object features\n",
    "df_obj = pd.DataFrame() # Create data frame to save object-based features\n",
    "\n",
    "for id in segment_ids: # Loop through all the objects\n",
    "    segment_pixels = band_data[segments == id] # Extract pixels in idth object\n",
    "    # print('pixels for id', id, segment_pixels.shape) \n",
    "    object_features = segment_features(segment_pixels) # Calculate idth object's features\n",
    "    objects.append(object_features) # Add idth object's features to list\n",
    "    object_ids.append(id) # Add object id\n",
    "    # Save object features into df\n",
    "    df_obj = pd.concat([df_obj, pd.DataFrame(object_features)], axis=1)\n",
    "\n",
    "# Add column name   \n",
    "df_obj.columns = [f'object{i}' for i in range(1, 1 + segment_ids.shape[0])] \n",
    "\n",
    "# Print number ofobjects and features\n",
    "print('created', len(objects), 'objects with', len(objects[0]), 'variables in', time.time()-obj_start, 'seconds') "
   ]
  },
  {
   "cell_type": "code",
   "execution_count": 51,
   "metadata": {},
   "outputs": [
    {
     "data": {
      "text/html": [
       "<div>\n",
       "<style scoped>\n",
       "    .dataframe tbody tr th:only-of-type {\n",
       "        vertical-align: middle;\n",
       "    }\n",
       "\n",
       "    .dataframe tbody tr th {\n",
       "        vertical-align: top;\n",
       "    }\n",
       "\n",
       "    .dataframe thead th {\n",
       "        text-align: right;\n",
       "    }\n",
       "</style>\n",
       "<table border=\"1\" class=\"dataframe\">\n",
       "  <thead>\n",
       "    <tr style=\"text-align: right;\">\n",
       "      <th></th>\n",
       "      <th>object1</th>\n",
       "      <th>object2</th>\n",
       "      <th>object3</th>\n",
       "      <th>object4</th>\n",
       "      <th>object5</th>\n",
       "      <th>object6</th>\n",
       "      <th>object7</th>\n",
       "      <th>object8</th>\n",
       "      <th>object9</th>\n",
       "      <th>object10</th>\n",
       "      <th>...</th>\n",
       "      <th>object201</th>\n",
       "      <th>object202</th>\n",
       "      <th>object203</th>\n",
       "      <th>object204</th>\n",
       "      <th>object205</th>\n",
       "      <th>object206</th>\n",
       "      <th>object207</th>\n",
       "      <th>object208</th>\n",
       "      <th>object209</th>\n",
       "      <th>object210</th>\n",
       "    </tr>\n",
       "  </thead>\n",
       "  <tbody>\n",
       "    <tr>\n",
       "      <th>0</th>\n",
       "      <td>57.234375</td>\n",
       "      <td>74.437500</td>\n",
       "      <td>175.0</td>\n",
       "      <td>0.984375</td>\n",
       "      <td>11.437500</td>\n",
       "      <td>15.000000</td>\n",
       "      <td>6.234375</td>\n",
       "      <td>0.000000</td>\n",
       "      <td>12.437500</td>\n",
       "      <td>3.750000</td>\n",
       "      <td>...</td>\n",
       "      <td>73.750000</td>\n",
       "      <td>111.0</td>\n",
       "      <td>224.359375</td>\n",
       "      <td>0.984375</td>\n",
       "      <td>4.609375</td>\n",
       "      <td>53.484375</td>\n",
       "      <td>48.937500</td>\n",
       "      <td>89.750000</td>\n",
       "      <td>136.000000</td>\n",
       "      <td>81.109375</td>\n",
       "    </tr>\n",
       "    <tr>\n",
       "      <th>1</th>\n",
       "      <td>157.750000</td>\n",
       "      <td>186.984375</td>\n",
       "      <td>175.0</td>\n",
       "      <td>324.937500</td>\n",
       "      <td>333.750000</td>\n",
       "      <td>477.109375</td>\n",
       "      <td>374.609375</td>\n",
       "      <td>472.437500</td>\n",
       "      <td>329.484375</td>\n",
       "      <td>247.984375</td>\n",
       "      <td>...</td>\n",
       "      <td>260.234375</td>\n",
       "      <td>111.0</td>\n",
       "      <td>224.359375</td>\n",
       "      <td>532.484375</td>\n",
       "      <td>580.109375</td>\n",
       "      <td>53.484375</td>\n",
       "      <td>104.734375</td>\n",
       "      <td>270.484375</td>\n",
       "      <td>256.000000</td>\n",
       "      <td>344.437500</td>\n",
       "    </tr>\n",
       "    <tr>\n",
       "      <th>2</th>\n",
       "      <td>103.453125</td>\n",
       "      <td>133.534042</td>\n",
       "      <td>175.0</td>\n",
       "      <td>121.355797</td>\n",
       "      <td>128.309692</td>\n",
       "      <td>162.744888</td>\n",
       "      <td>170.980515</td>\n",
       "      <td>126.590599</td>\n",
       "      <td>100.294106</td>\n",
       "      <td>41.216217</td>\n",
       "      <td>...</td>\n",
       "      <td>142.953125</td>\n",
       "      <td>111.0</td>\n",
       "      <td>224.359375</td>\n",
       "      <td>185.982697</td>\n",
       "      <td>160.931213</td>\n",
       "      <td>53.484375</td>\n",
       "      <td>82.150002</td>\n",
       "      <td>188.286270</td>\n",
       "      <td>206.164062</td>\n",
       "      <td>221.783615</td>\n",
       "    </tr>\n",
       "    <tr>\n",
       "      <th>3</th>\n",
       "      <td>1475.811523</td>\n",
       "      <td>847.917908</td>\n",
       "      <td>0.0</td>\n",
       "      <td>5908.016602</td>\n",
       "      <td>2648.895020</td>\n",
       "      <td>5088.561035</td>\n",
       "      <td>3777.705078</td>\n",
       "      <td>4945.667969</td>\n",
       "      <td>1609.724121</td>\n",
       "      <td>949.203308</td>\n",
       "      <td>...</td>\n",
       "      <td>3154.072754</td>\n",
       "      <td>0.0</td>\n",
       "      <td>0.000000</td>\n",
       "      <td>8101.614258</td>\n",
       "      <td>13872.788086</td>\n",
       "      <td>0.000000</td>\n",
       "      <td>509.704529</td>\n",
       "      <td>2203.558594</td>\n",
       "      <td>1695.769653</td>\n",
       "      <td>4566.111328</td>\n",
       "    </tr>\n",
       "    <tr>\n",
       "      <th>4</th>\n",
       "      <td>0.228445</td>\n",
       "      <td>-0.040356</td>\n",
       "      <td>0.0</td>\n",
       "      <td>0.119211</td>\n",
       "      <td>0.775367</td>\n",
       "      <td>0.325532</td>\n",
       "      <td>0.121776</td>\n",
       "      <td>0.921039</td>\n",
       "      <td>0.726093</td>\n",
       "      <td>1.794064</td>\n",
       "      <td>...</td>\n",
       "      <td>0.787297</td>\n",
       "      <td>0.0</td>\n",
       "      <td>0.000000</td>\n",
       "      <td>0.446259</td>\n",
       "      <td>0.827735</td>\n",
       "      <td>0.000000</td>\n",
       "      <td>-0.582422</td>\n",
       "      <td>-0.193714</td>\n",
       "      <td>-0.169443</td>\n",
       "      <td>0.190251</td>\n",
       "    </tr>\n",
       "  </tbody>\n",
       "</table>\n",
       "<p>5 rows × 210 columns</p>\n",
       "</div>"
      ],
      "text/plain": [
       "       object1     object2  object3      object4      object5      object6  \\\n",
       "0    57.234375   74.437500    175.0     0.984375    11.437500    15.000000   \n",
       "1   157.750000  186.984375    175.0   324.937500   333.750000   477.109375   \n",
       "2   103.453125  133.534042    175.0   121.355797   128.309692   162.744888   \n",
       "3  1475.811523  847.917908      0.0  5908.016602  2648.895020  5088.561035   \n",
       "4     0.228445   -0.040356      0.0     0.119211     0.775367     0.325532   \n",
       "\n",
       "       object7      object8      object9    object10  ...    object201  \\\n",
       "0     6.234375     0.000000    12.437500    3.750000  ...    73.750000   \n",
       "1   374.609375   472.437500   329.484375  247.984375  ...   260.234375   \n",
       "2   170.980515   126.590599   100.294106   41.216217  ...   142.953125   \n",
       "3  3777.705078  4945.667969  1609.724121  949.203308  ...  3154.072754   \n",
       "4     0.121776     0.921039     0.726093    1.794064  ...     0.787297   \n",
       "\n",
       "   object202   object203    object204     object205  object206   object207  \\\n",
       "0      111.0  224.359375     0.984375      4.609375  53.484375   48.937500   \n",
       "1      111.0  224.359375   532.484375    580.109375  53.484375  104.734375   \n",
       "2      111.0  224.359375   185.982697    160.931213  53.484375   82.150002   \n",
       "3        0.0    0.000000  8101.614258  13872.788086   0.000000  509.704529   \n",
       "4        0.0    0.000000     0.446259      0.827735   0.000000   -0.582422   \n",
       "\n",
       "     object208    object209    object210  \n",
       "0    89.750000   136.000000    81.109375  \n",
       "1   270.484375   256.000000   344.437500  \n",
       "2   188.286270   206.164062   221.783615  \n",
       "3  2203.558594  1695.769653  4566.111328  \n",
       "4    -0.193714    -0.169443     0.190251  \n",
       "\n",
       "[5 rows x 210 columns]"
      ]
     },
     "execution_count": 51,
     "metadata": {},
     "output_type": "execute_result"
    }
   ],
   "source": [
    "# Remove nan, inf in dataframe\n",
    "df_obj.replace([np.inf, -np.inf], np.nan) # Replace all inf to nan\n",
    "df_obj = df_obj.fillna(0) # Change all nan to 0\n",
    "df_obj.dropna(inplace=True) # Drop all nan value\n",
    "\n",
    "# Show first 5 lines of data\n",
    "df_obj.head()"
   ]
  },
  {
   "cell_type": "code",
   "execution_count": 52,
   "metadata": {},
   "outputs": [],
   "source": [
    "# Save the object features to csv\n",
    "df_obj.to_csv(('data/object_feature_{}.csv').format(set_scale), index=False)"
   ]
  },
  {
   "cell_type": "markdown",
   "metadata": {},
   "source": [
    "### 3. Visualization of object-based features"
   ]
  },
  {
   "cell_type": "code",
   "execution_count": 53,
   "metadata": {
    "scrolled": true
   },
   "outputs": [
    {
     "data": {
      "image/png": "[encoded data removed]",
      "text/plain": [
       "<Figure size 1080x720 with 2 Axes>"
      ]
     },
     "metadata": {
      "needs_background": "light"
     },
     "output_type": "display_data"
    }
   ],
   "source": [
    "# Visualization of object-based features\n",
    "from mpl_toolkits.axes_grid1 import make_axes_locatable\n",
    "\n",
    "def plot_pixel(pixel, n):\n",
    "    ax = plt.gca()\n",
    "    im = ax.imshow(pixel.reshape(1, df_obj.shape[1]), cmap = 'GnBu')# !!! Change the reshape size when change segmented objects，\n",
    "    plt.title(f'object - {n}') # Set title\n",
    "    plt.axis('off') # no axis\n",
    "    divider = make_axes_locatable(ax) # takes an existing axes, adds it to a new AxesDivider and returns the AxesDivider\n",
    "    cax = divider.append_axes(\"right\", size=\"5%\", pad=0.05) # Set axes parameters\n",
    "    plt.colorbar(im, cax=cax) # Plot colobar figure\n",
    "    plt.show() # Display figures\n",
    "plt.figure(figsize=(15, 10)) # Set figure size\n",
    "\n",
    "rand_n = np.random.randint(df_obj.shape[0])# Set a random object\n",
    "\n",
    "plot_pixel(df_obj.iloc[rand_n, :].values, rand_n) # Plot visualization of random object features"
   ]
  },
  {
   "cell_type": "code",
   "execution_count": 54,
   "metadata": {},
   "outputs": [
    {
     "data": {
      "text/plain": [
       "<matplotlib.image.AxesImage at 0x283d4da1f48>"
      ]
     },
     "execution_count": 54,
     "metadata": {},
     "output_type": "execute_result"
    },
    {
     "data": {
      "image/png": "[encoded data removed]",
      "text/plain": [
       "<Figure size 1152x144 with 1 Axes>"
      ]
     },
     "metadata": {
      "needs_background": "light"
     },
     "output_type": "display_data"
    }
   ],
   "source": [
    "plt.matshow(df_obj.iloc[rand_n, :].values.reshape(1,df_obj.shape[1]), cmap='GnBu') # plot visualization of feature vector"
   ]
  },
  {
   "cell_type": "code",
   "execution_count": 55,
   "metadata": {},
   "outputs": [
    {
     "data": {
      "image/png": "[encoded data removed]",
      "text/plain": [
       "<Figure size 432x216 with 1 Axes>"
      ]
     },
     "metadata": {
      "needs_background": "light"
     },
     "output_type": "display_data"
    }
   ],
   "source": [
    "import cv2\n",
    "import skimage.io\n",
    "import scipy.io as sio\n",
    "from scipy.io import loadmat\n",
    "import matplotlib.pyplot as plt\n",
    "\n",
    "# Visualization of object signature\n",
    "\n",
    "def plot_signature(df):\n",
    "    plt.figure(figsize=(6, 3)) # Set figure size \n",
    "    object_no = np.random.randint(df_obj.shape[0]) # Pixel number\n",
    "    plt.plot(range(0, df.shape[1]), df.iloc[object_no,:].values.tolist(), color='lightslategrey', linewidth='0.7',label= f'value') # Plo signature\n",
    "    plt.legend() # Set legend\n",
    "    \n",
    "    plt.title(f'Object({object_no}) signature', fontsize=14 ) # Set title\n",
    "    plt.xlabel('Band Number', fontsize=14) # Set xlabel\n",
    "    plt.ylabel('Pixel Intensity', fontsize=14) # Set ylabel\n",
    "    plt.show() # Show plot\n",
    "    \n",
    "plot_signature(df_obj) # Plot object signature"
   ]
  },
  {
   "cell_type": "markdown",
   "metadata": {},
   "source": [
    "## Training the classifier"
   ]
  },
  {
   "cell_type": "markdown",
   "metadata": {},
   "source": [
    "### 1. Prepare training groud truth points"
   ]
  },
  {
   "cell_type": "code",
   "execution_count": 56,
   "metadata": {},
   "outputs": [],
   "source": [
    "# Load and Rasterize train dataset\n",
    "train_fn = 'data/ground_truth/train.shp' # Path to training shapefile\n",
    "train_ds = ogr.Open(train_fn) # Open training data\n",
    "lyr = train_ds.GetLayer() # Tranform training data to layer\n",
    "# create a new raster layer in memory\n",
    "driver = gdal.GetDriverByName('MEM') # Create a new raster layer in memory\n",
    "target_ds = driver.Create('', naip_ds.RasterXSize, naip_ds.RasterYSize, 1, gdal.GDT_UInt16) # Create empty raster\n",
    "target_ds.SetGeoTransform(naip_ds.GetGeoTransform())# Get input fature image\n",
    "target_ds.SetProjection(naip_ds.GetProjection()) # Set projection\n",
    "# rasterize the training points\n",
    "options = ['ATTRIBUTE=id']\n",
    "gdal.RasterizeLayer(target_ds, [1], lyr, options=options) # Create reaster layer\n",
    "\n",
    "# Tranform training data to array\n",
    "ground_truth = target_ds.GetRasterBand(1).ReadAsArray() # Use array as the inputs to train classifier"
   ]
  },
  {
   "cell_type": "markdown",
   "metadata": {},
   "source": [
    "### 2. Prepare training objects"
   ]
  },
  {
   "cell_type": "code",
   "execution_count": 57,
   "metadata": {},
   "outputs": [],
   "source": [
    "# get unique values (0 is the background, or no data, value so it is not included) for each land cover type\n",
    "classes = np.unique(ground_truth)[1:]\n",
    "\n",
    "# for each class (land cover type) record the associated segment IDs\n",
    "segments_per_class = {}\n",
    "for klass in classes: # Loop through all classes\n",
    "    segments_of_class = segments[ground_truth == klass] \n",
    "    segments_per_class[klass] = set(segments_of_class)\n"
   ]
  },
  {
   "cell_type": "code",
   "execution_count": 58,
   "metadata": {},
   "outputs": [
    {
     "name": "stdout",
     "output_type": "stream",
     "text": [
      "Training objects for class 1 : 42\n",
      "Training objects for class 2 : 44\n",
      "Training objects for class 3 : 39\n",
      "Training objects for class 4 : 23\n",
      "Training objects for class 5 : 17\n",
      "Training objects for class 6 : 16\n",
      "Training objects for class 7 : 13\n",
      "Training objects for class 8 : 14\n"
     ]
    }
   ],
   "source": [
    "# Prepare training objects\n",
    "train_img = np.copy(segments) # Copy segmented objects image\n",
    "threshold = train_img.max() + 1 # Set threshold\n",
    "\n",
    "for klass in classes: # Loop through all tree classes\n",
    "    class_label = threshold + klass # Save labels\n",
    "    for segment_id in segments_per_class[klass]: # if object belongs to one class\n",
    "        train_img[train_img == segment_id] = class_label # assign the class_label to the object in training image\n",
    "\n",
    "train_img[train_img <= threshold] = 0 # Set non training objects as 0\n",
    "train_img[train_img > threshold] -= threshold # \n",
    "\n",
    "training_objects = [] # Training objects\n",
    "training_labels = [] # Labels of training objects\n",
    "\n",
    "for klass in classes:\n",
    "    # For each objects if the segment ID for that object is in the segments representing the train data in that class\n",
    "    # Then we will get the values for that segment to use as a training object\n",
    "    class_train_object = [v for i, v in enumerate(objects) if segment_ids[i] in segments_per_class[klass]]\n",
    "    training_labels += [klass] * len(class_train_object) # a new list that has times the segments\n",
    "    training_objects += class_train_object # keep adding those to the training objects\n",
    "    print(\"Training objects for class\", klass, \":\" , len(class_train_object)) # Print out the number of training objects in each class\n",
    "    "
   ]
  },
  {
   "cell_type": "code",
   "execution_count": 65,
   "metadata": {},
   "outputs": [
    {
     "name": "stdout",
     "output_type": "stream",
     "text": [
      "Check nan,inf in training object array:\n",
      "If nan exists: False\n",
      "If inf exists: False \n",
      "\n",
      "Check nan,inf in object array:\n",
      "If nan exists: False\n",
      "If inf exists: False\n"
     ]
    },
    {
     "data": {
      "text/plain": [
       "array([[ 1.50000000e+01,  4.77109375e+02,  1.62744888e+02, ...,\n",
       "         2.83645153e+00, -8.96213412e-01,  1.40972676e+00],\n",
       "       [ 6.23437500e+00,  3.74609375e+02,  1.70980515e+02, ...,\n",
       "         2.75854516e+00, -4.69685823e-01, -5.39874372e-01],\n",
       "       [ 0.00000000e+00,  4.72437500e+02,  1.26590599e+02, ...,\n",
       "         5.66722393e+00,  1.40133783e-01, -4.77999102e-02],\n",
       "       ...,\n",
       "       [ 1.93750000e+00,  5.85437500e+02,  1.21416298e+02, ...,\n",
       "         2.87736797e+00, -5.59004426e-01, -2.01554599e-01],\n",
       "       [ 1.17343750e+01,  6.55859375e+02,  3.18454987e+02, ...,\n",
       "         2.13346982e+00, -6.71861291e-01,  9.73648709e-01],\n",
       "       [ 1.50000000e+01,  6.03750000e+02,  3.61072845e+02, ...,\n",
       "         1.58171129e+00, -4.75742221e-01, -6.10704683e-01]])"
      ]
     },
     "execution_count": 65,
     "metadata": {},
     "output_type": "execute_result"
    }
   ],
   "source": [
    "# Check nan, inf in training object features\n",
    "print('Check nan,inf in training object array:')\n",
    "training_objects = np.array(training_objects)\n",
    "# training_objects.dtype = 'float64'\n",
    "training_objects = np.nan_to_num(training_objects) # Transform nan to 0\n",
    "print('If nan exists:',np.isnan(training_objects).any())\n",
    "print('If inf exists:',np.isinf(training_objects).any(),'\\n') \n",
    "\n",
    "# Check nan,inf in all object features\n",
    "print('Check nan,inf in object array:') # print\n",
    "objects = np.array(objects) # change to array\n",
    "#objects[np.isnan(objects)] = 0\n",
    "objects.dtype = 'float32' # change type\n",
    "objects = np.nan_to_num(objects) # replace nan\n",
    "print('If nan exists:',np.isnan(objects).any()) # check if nan exists\n",
    "print('If inf exists:',np.isinf(objects).any()) # check if inf exists\n",
    "np.nan_to_num(objects)\n",
    "np.nan_to_num(training_objects)"
   ]
  },
  {
   "cell_type": "markdown",
   "metadata": {},
   "source": [
    "## Random Forest Classification "
   ]
  },
  {
   "cell_type": "markdown",
   "metadata": {},
   "source": [
    "### 3. Train RF classifier\n",
    "- **Input:** training data, training label\n",
    "- **Output:** predicted labels"
   ]
  },
  {
   "cell_type": "code",
   "execution_count": 64,
   "metadata": {},
   "outputs": [
    {
     "name": "stdout",
     "output_type": "stream",
     "text": [
      "Start fitting Random Forest Classifier...\n"
     ]
    },
    {
     "name": "stderr",
     "output_type": "stream",
     "text": [
      "D:\\Program Files\\ArcGIS\\Pro\\bin\\Python\\envs\\ge5219\\lib\\site-packages\\numpy\\core\\fromnumeric.py:87: RuntimeWarning: invalid value encountered in reduce\n",
      "  return ufunc.reduce(obj, axis, dtype, out, **passkwargs)\n"
     ]
    },
    {
     "ename": "ValueError",
     "evalue": "Input contains NaN, infinity or a value too large for dtype('float32').",
     "output_type": "error",
     "traceback": [
      "\u001b[1;31m---------------------------------------------------------------------------\u001b[0m",
      "\u001b[1;31mValueError\u001b[0m                                Traceback (most recent call last)",
      "\u001b[1;32m<ipython-input-64-36aed1006c90>\u001b[0m in \u001b[0;36m<module>\u001b[1;34m\u001b[0m\n\u001b[0;32m      7\u001b[0m \u001b[0mprint\u001b[0m\u001b[1;33m(\u001b[0m\u001b[1;34m'Start fitting Random Forest Classifier...'\u001b[0m\u001b[1;33m)\u001b[0m\u001b[1;33m\u001b[0m\u001b[1;33m\u001b[0m\u001b[0m\n\u001b[0;32m      8\u001b[0m \u001b[0mstart_time\u001b[0m \u001b[1;33m=\u001b[0m \u001b[0mtime\u001b[0m\u001b[1;33m.\u001b[0m\u001b[0mtime\u001b[0m\u001b[1;33m(\u001b[0m\u001b[1;33m)\u001b[0m\u001b[1;33m\u001b[0m\u001b[1;33m\u001b[0m\u001b[0m\n\u001b[1;32m----> 9\u001b[1;33m \u001b[0mclassifier\u001b[0m\u001b[1;33m.\u001b[0m\u001b[0mfit\u001b[0m\u001b[1;33m(\u001b[0m\u001b[0mtraining_objects\u001b[0m\u001b[1;33m,\u001b[0m \u001b[0mtraining_labels\u001b[0m\u001b[1;33m)\u001b[0m\u001b[1;33m\u001b[0m\u001b[1;33m\u001b[0m\u001b[0m\n\u001b[0m\u001b[0;32m     10\u001b[0m \u001b[0mend_time\u001b[0m \u001b[1;33m=\u001b[0m \u001b[0mtime\u001b[0m\u001b[1;33m.\u001b[0m\u001b[0mtime\u001b[0m\u001b[1;33m(\u001b[0m\u001b[1;33m)\u001b[0m\u001b[1;33m\u001b[0m\u001b[1;33m\u001b[0m\u001b[0m\n\u001b[0;32m     11\u001b[0m \u001b[0mprint\u001b[0m\u001b[1;33m(\u001b[0m\u001b[1;34m'Fitting complete!\\n'\u001b[0m\u001b[1;33m)\u001b[0m\u001b[1;33m\u001b[0m\u001b[1;33m\u001b[0m\u001b[0m\n",
      "\u001b[1;32mD:\\Program Files\\ArcGIS\\Pro\\bin\\Python\\envs\\ge5219\\lib\\site-packages\\sklearn\\ensemble\\_forest.py\u001b[0m in \u001b[0;36mfit\u001b[1;34m(self, X, y, sample_weight)\u001b[0m\n\u001b[0;32m    303\u001b[0m             )\n\u001b[0;32m    304\u001b[0m         X, y = self._validate_data(X, y, multi_output=True,\n\u001b[1;32m--> 305\u001b[1;33m                                    accept_sparse=\"csc\", dtype=DTYPE)\n\u001b[0m\u001b[0;32m    306\u001b[0m         \u001b[1;32mif\u001b[0m \u001b[0msample_weight\u001b[0m \u001b[1;32mis\u001b[0m \u001b[1;32mnot\u001b[0m \u001b[1;32mNone\u001b[0m\u001b[1;33m:\u001b[0m\u001b[1;33m\u001b[0m\u001b[1;33m\u001b[0m\u001b[0m\n\u001b[0;32m    307\u001b[0m             \u001b[0msample_weight\u001b[0m \u001b[1;33m=\u001b[0m \u001b[0m_check_sample_weight\u001b[0m\u001b[1;33m(\u001b[0m\u001b[0msample_weight\u001b[0m\u001b[1;33m,\u001b[0m \u001b[0mX\u001b[0m\u001b[1;33m)\u001b[0m\u001b[1;33m\u001b[0m\u001b[1;33m\u001b[0m\u001b[0m\n",
      "\u001b[1;32mD:\\Program Files\\ArcGIS\\Pro\\bin\\Python\\envs\\ge5219\\lib\\site-packages\\sklearn\\base.py\u001b[0m in \u001b[0;36m_validate_data\u001b[1;34m(self, X, y, reset, validate_separately, **check_params)\u001b[0m\n\u001b[0;32m    431\u001b[0m                 \u001b[0my\u001b[0m \u001b[1;33m=\u001b[0m \u001b[0mcheck_array\u001b[0m\u001b[1;33m(\u001b[0m\u001b[0my\u001b[0m\u001b[1;33m,\u001b[0m \u001b[1;33m**\u001b[0m\u001b[0mcheck_y_params\u001b[0m\u001b[1;33m)\u001b[0m\u001b[1;33m\u001b[0m\u001b[1;33m\u001b[0m\u001b[0m\n\u001b[0;32m    432\u001b[0m             \u001b[1;32melse\u001b[0m\u001b[1;33m:\u001b[0m\u001b[1;33m\u001b[0m\u001b[1;33m\u001b[0m\u001b[0m\n\u001b[1;32m--> 433\u001b[1;33m                 \u001b[0mX\u001b[0m\u001b[1;33m,\u001b[0m \u001b[0my\u001b[0m \u001b[1;33m=\u001b[0m \u001b[0mcheck_X_y\u001b[0m\u001b[1;33m(\u001b[0m\u001b[0mX\u001b[0m\u001b[1;33m,\u001b[0m \u001b[0my\u001b[0m\u001b[1;33m,\u001b[0m \u001b[1;33m**\u001b[0m\u001b[0mcheck_params\u001b[0m\u001b[1;33m)\u001b[0m\u001b[1;33m\u001b[0m\u001b[1;33m\u001b[0m\u001b[0m\n\u001b[0m\u001b[0;32m    434\u001b[0m             \u001b[0mout\u001b[0m \u001b[1;33m=\u001b[0m \u001b[0mX\u001b[0m\u001b[1;33m,\u001b[0m \u001b[0my\u001b[0m\u001b[1;33m\u001b[0m\u001b[1;33m\u001b[0m\u001b[0m\n\u001b[0;32m    435\u001b[0m \u001b[1;33m\u001b[0m\u001b[0m\n",
      "\u001b[1;32mD:\\Program Files\\ArcGIS\\Pro\\bin\\Python\\envs\\ge5219\\lib\\site-packages\\sklearn\\utils\\validation.py\u001b[0m in \u001b[0;36minner_f\u001b[1;34m(*args, **kwargs)\u001b[0m\n\u001b[0;32m     61\u001b[0m             \u001b[0mextra_args\u001b[0m \u001b[1;33m=\u001b[0m \u001b[0mlen\u001b[0m\u001b[1;33m(\u001b[0m\u001b[0margs\u001b[0m\u001b[1;33m)\u001b[0m \u001b[1;33m-\u001b[0m \u001b[0mlen\u001b[0m\u001b[1;33m(\u001b[0m\u001b[0mall_args\u001b[0m\u001b[1;33m)\u001b[0m\u001b[1;33m\u001b[0m\u001b[1;33m\u001b[0m\u001b[0m\n\u001b[0;32m     62\u001b[0m             \u001b[1;32mif\u001b[0m \u001b[0mextra_args\u001b[0m \u001b[1;33m<=\u001b[0m \u001b[1;36m0\u001b[0m\u001b[1;33m:\u001b[0m\u001b[1;33m\u001b[0m\u001b[1;33m\u001b[0m\u001b[0m\n\u001b[1;32m---> 63\u001b[1;33m                 \u001b[1;32mreturn\u001b[0m \u001b[0mf\u001b[0m\u001b[1;33m(\u001b[0m\u001b[1;33m*\u001b[0m\u001b[0margs\u001b[0m\u001b[1;33m,\u001b[0m \u001b[1;33m**\u001b[0m\u001b[0mkwargs\u001b[0m\u001b[1;33m)\u001b[0m\u001b[1;33m\u001b[0m\u001b[1;33m\u001b[0m\u001b[0m\n\u001b[0m\u001b[0;32m     64\u001b[0m \u001b[1;33m\u001b[0m\u001b[0m\n\u001b[0;32m     65\u001b[0m             \u001b[1;31m# extra_args > 0\u001b[0m\u001b[1;33m\u001b[0m\u001b[1;33m\u001b[0m\u001b[1;33m\u001b[0m\u001b[0m\n",
      "\u001b[1;32mD:\\Program Files\\ArcGIS\\Pro\\bin\\Python\\envs\\ge5219\\lib\\site-packages\\sklearn\\utils\\validation.py\u001b[0m in \u001b[0;36mcheck_X_y\u001b[1;34m(X, y, accept_sparse, accept_large_sparse, dtype, order, copy, force_all_finite, ensure_2d, allow_nd, multi_output, ensure_min_samples, ensure_min_features, y_numeric, estimator)\u001b[0m\n\u001b[0;32m    819\u001b[0m                     \u001b[0mensure_min_samples\u001b[0m\u001b[1;33m=\u001b[0m\u001b[0mensure_min_samples\u001b[0m\u001b[1;33m,\u001b[0m\u001b[1;33m\u001b[0m\u001b[1;33m\u001b[0m\u001b[0m\n\u001b[0;32m    820\u001b[0m                     \u001b[0mensure_min_features\u001b[0m\u001b[1;33m=\u001b[0m\u001b[0mensure_min_features\u001b[0m\u001b[1;33m,\u001b[0m\u001b[1;33m\u001b[0m\u001b[1;33m\u001b[0m\u001b[0m\n\u001b[1;32m--> 821\u001b[1;33m                     estimator=estimator)\n\u001b[0m\u001b[0;32m    822\u001b[0m     \u001b[1;32mif\u001b[0m \u001b[0mmulti_output\u001b[0m\u001b[1;33m:\u001b[0m\u001b[1;33m\u001b[0m\u001b[1;33m\u001b[0m\u001b[0m\n\u001b[0;32m    823\u001b[0m         y = check_array(y, accept_sparse='csr', force_all_finite=True,\n",
      "\u001b[1;32mD:\\Program Files\\ArcGIS\\Pro\\bin\\Python\\envs\\ge5219\\lib\\site-packages\\sklearn\\utils\\validation.py\u001b[0m in \u001b[0;36minner_f\u001b[1;34m(*args, **kwargs)\u001b[0m\n\u001b[0;32m     61\u001b[0m             \u001b[0mextra_args\u001b[0m \u001b[1;33m=\u001b[0m \u001b[0mlen\u001b[0m\u001b[1;33m(\u001b[0m\u001b[0margs\u001b[0m\u001b[1;33m)\u001b[0m \u001b[1;33m-\u001b[0m \u001b[0mlen\u001b[0m\u001b[1;33m(\u001b[0m\u001b[0mall_args\u001b[0m\u001b[1;33m)\u001b[0m\u001b[1;33m\u001b[0m\u001b[1;33m\u001b[0m\u001b[0m\n\u001b[0;32m     62\u001b[0m             \u001b[1;32mif\u001b[0m \u001b[0mextra_args\u001b[0m \u001b[1;33m<=\u001b[0m \u001b[1;36m0\u001b[0m\u001b[1;33m:\u001b[0m\u001b[1;33m\u001b[0m\u001b[1;33m\u001b[0m\u001b[0m\n\u001b[1;32m---> 63\u001b[1;33m                 \u001b[1;32mreturn\u001b[0m \u001b[0mf\u001b[0m\u001b[1;33m(\u001b[0m\u001b[1;33m*\u001b[0m\u001b[0margs\u001b[0m\u001b[1;33m,\u001b[0m \u001b[1;33m**\u001b[0m\u001b[0mkwargs\u001b[0m\u001b[1;33m)\u001b[0m\u001b[1;33m\u001b[0m\u001b[1;33m\u001b[0m\u001b[0m\n\u001b[0m\u001b[0;32m     64\u001b[0m \u001b[1;33m\u001b[0m\u001b[0m\n\u001b[0;32m     65\u001b[0m             \u001b[1;31m# extra_args > 0\u001b[0m\u001b[1;33m\u001b[0m\u001b[1;33m\u001b[0m\u001b[1;33m\u001b[0m\u001b[0m\n",
      "\u001b[1;32mD:\\Program Files\\ArcGIS\\Pro\\bin\\Python\\envs\\ge5219\\lib\\site-packages\\sklearn\\utils\\validation.py\u001b[0m in \u001b[0;36mcheck_array\u001b[1;34m(array, accept_sparse, accept_large_sparse, dtype, order, copy, force_all_finite, ensure_2d, allow_nd, ensure_min_samples, ensure_min_features, estimator)\u001b[0m\n\u001b[0;32m    662\u001b[0m         \u001b[1;32mif\u001b[0m \u001b[0mforce_all_finite\u001b[0m\u001b[1;33m:\u001b[0m\u001b[1;33m\u001b[0m\u001b[1;33m\u001b[0m\u001b[0m\n\u001b[0;32m    663\u001b[0m             _assert_all_finite(array,\n\u001b[1;32m--> 664\u001b[1;33m                                allow_nan=force_all_finite == 'allow-nan')\n\u001b[0m\u001b[0;32m    665\u001b[0m \u001b[1;33m\u001b[0m\u001b[0m\n\u001b[0;32m    666\u001b[0m     \u001b[1;32mif\u001b[0m \u001b[0mensure_min_samples\u001b[0m \u001b[1;33m>\u001b[0m \u001b[1;36m0\u001b[0m\u001b[1;33m:\u001b[0m\u001b[1;33m\u001b[0m\u001b[1;33m\u001b[0m\u001b[0m\n",
      "\u001b[1;32mD:\\Program Files\\ArcGIS\\Pro\\bin\\Python\\envs\\ge5219\\lib\\site-packages\\sklearn\\utils\\validation.py\u001b[0m in \u001b[0;36m_assert_all_finite\u001b[1;34m(X, allow_nan, msg_dtype)\u001b[0m\n\u001b[0;32m    104\u001b[0m                     \u001b[0mmsg_err\u001b[0m\u001b[1;33m.\u001b[0m\u001b[0mformat\u001b[0m\u001b[1;33m\u001b[0m\u001b[1;33m\u001b[0m\u001b[0m\n\u001b[0;32m    105\u001b[0m                     (type_err,\n\u001b[1;32m--> 106\u001b[1;33m                      msg_dtype if msg_dtype is not None else X.dtype)\n\u001b[0m\u001b[0;32m    107\u001b[0m             )\n\u001b[0;32m    108\u001b[0m     \u001b[1;31m# for object dtype data, we only check for NaNs (GH-13254)\u001b[0m\u001b[1;33m\u001b[0m\u001b[1;33m\u001b[0m\u001b[1;33m\u001b[0m\u001b[0m\n",
      "\u001b[1;31mValueError\u001b[0m: Input contains NaN, infinity or a value too large for dtype('float32')."
     ]
    }
   ],
   "source": [
    "# import RandomForest Classifier\n",
    "from sklearn.ensemble import RandomForestClassifier, GradientBoostingClassifier\n",
    "\n",
    "classifier = RandomForestClassifier(n_estimators=120, max_depth=80,n_jobs=-1,min_samples_leaf=1, max_features=\"log2\") # RandomForest Classifier\n",
    "\n",
    "# Train the RF Classifier\n",
    "print('Start fitting Random Forest Classifier...')\n",
    "start_time = time.time()\n",
    "classifier.fit(training_objects, training_labels)\n",
    "end_time = time.time()\n",
    "print('Fitting complete!\\n')\n",
    "print('Training RF costs',end_time-start_time,'seconds.\\n')\n"
   ]
  },
  {
   "cell_type": "code",
   "execution_count": 6,
   "metadata": {},
   "outputs": [
    {
     "name": "stdout",
     "output_type": "stream",
     "text": [
      "Predicting Classifications...\n"
     ]
    },
    {
     "ename": "NameError",
     "evalue": "name 'classifier' is not defined",
     "output_type": "error",
     "traceback": [
      "\u001b[1;31m---------------------------------------------------------------------------\u001b[0m",
      "\u001b[1;31mNameError\u001b[0m                                 Traceback (most recent call last)",
      "\u001b[1;32m<ipython-input-6-a6336a19e3e7>\u001b[0m in \u001b[0;36m<module>\u001b[1;34m\u001b[0m\n\u001b[0;32m      1\u001b[0m \u001b[0mprint\u001b[0m\u001b[1;33m(\u001b[0m\u001b[1;34m'Predicting Classifications...'\u001b[0m\u001b[1;33m)\u001b[0m\u001b[1;33m\u001b[0m\u001b[1;33m\u001b[0m\u001b[0m\n\u001b[0;32m      2\u001b[0m \u001b[1;31m# Predict all the object labels\u001b[0m\u001b[1;33m\u001b[0m\u001b[1;33m\u001b[0m\u001b[1;33m\u001b[0m\u001b[0m\n\u001b[1;32m----> 3\u001b[1;33m \u001b[0mpredicted\u001b[0m \u001b[1;33m=\u001b[0m \u001b[0mclassifier\u001b[0m\u001b[1;33m.\u001b[0m\u001b[0mpredict\u001b[0m\u001b[1;33m(\u001b[0m\u001b[0mobjects\u001b[0m\u001b[1;33m)\u001b[0m\u001b[1;33m\u001b[0m\u001b[1;33m\u001b[0m\u001b[0m\n\u001b[0m\u001b[0;32m      4\u001b[0m \u001b[0mprint\u001b[0m\u001b[1;33m(\u001b[0m\u001b[1;34m'Predicting complete!'\u001b[0m\u001b[1;33m)\u001b[0m\u001b[1;33m\u001b[0m\u001b[1;33m\u001b[0m\u001b[0m\n",
      "\u001b[1;31mNameError\u001b[0m: name 'classifier' is not defined"
     ]
    }
   ],
   "source": [
    "print('Predicting Classifications...')\n",
    "# Predict all the object labels\n",
    "predicted = classifier.predict(objects)\n",
    "print('Predicting complete!')"
   ]
  },
  {
   "cell_type": "code",
   "execution_count": 516,
   "metadata": {},
   "outputs": [
    {
     "name": "stdout",
     "output_type": "stream",
     "text": [
      "Feature: 0, Score: 0.00000\n",
      "Feature: 1, Score: 0.00422\n",
      "Feature: 2, Score: 0.00000\n",
      "Feature: 3, Score: 0.00331\n",
      "Feature: 4, Score: 0.00058\n",
      "Feature: 5, Score: 0.00240\n",
      "Feature: 6, Score: 0.00114\n",
      "Feature: 7, Score: 0.00239\n",
      "Feature: 8, Score: 0.00099\n",
      "Feature: 9, Score: 0.00432\n",
      "Feature: 10, Score: 0.00201\n",
      "Feature: 11, Score: 0.00335\n",
      "Feature: 12, Score: 0.00047\n",
      "Feature: 13, Score: 0.00438\n",
      "Feature: 14, Score: 0.00119\n",
      "Feature: 15, Score: 0.00523\n",
      "Feature: 16, Score: 0.00056\n",
      "Feature: 17, Score: 0.00298\n",
      "Feature: 18, Score: 0.00100\n",
      "Feature: 19, Score: 0.00534\n",
      "Feature: 20, Score: 0.00083\n",
      "Feature: 21, Score: 0.00229\n",
      "Feature: 22, Score: 0.00219\n",
      "Feature: 23, Score: 0.00324\n",
      "Feature: 24, Score: 0.00000\n",
      "Feature: 25, Score: 0.00132\n",
      "Feature: 26, Score: 0.00000\n",
      "Feature: 27, Score: 0.00300\n",
      "Feature: 28, Score: 0.00094\n",
      "Feature: 29, Score: 0.00261\n",
      "Feature: 30, Score: 0.00181\n",
      "Feature: 31, Score: 0.00518\n",
      "Feature: 32, Score: 0.00090\n",
      "Feature: 33, Score: 0.00305\n",
      "Feature: 34, Score: 0.00153\n",
      "Feature: 35, Score: 0.00237\n",
      "Feature: 36, Score: 0.00000\n",
      "Feature: 37, Score: 0.00129\n",
      "Feature: 38, Score: 0.00000\n",
      "Feature: 39, Score: 0.00122\n",
      "Feature: 40, Score: 0.00059\n",
      "Feature: 41, Score: 0.00477\n",
      "Feature: 42, Score: 0.00133\n",
      "Feature: 43, Score: 0.00383\n",
      "Feature: 44, Score: 0.00149\n",
      "Feature: 45, Score: 0.00512\n",
      "Feature: 46, Score: 0.00354\n",
      "Feature: 47, Score: 0.00204\n",
      "Feature: 48, Score: 0.00061\n",
      "Feature: 49, Score: 0.00258\n",
      "Feature: 50, Score: 0.00115\n",
      "Feature: 51, Score: 0.00193\n",
      "Feature: 52, Score: 0.00057\n",
      "Feature: 53, Score: 0.00367\n",
      "Feature: 54, Score: 0.00167\n",
      "Feature: 55, Score: 0.00291\n",
      "Feature: 56, Score: 0.00109\n",
      "Feature: 57, Score: 0.00309\n",
      "Feature: 58, Score: 0.00113\n",
      "Feature: 59, Score: 0.00459\n",
      "Feature: 60, Score: 0.00052\n",
      "Feature: 61, Score: 0.00244\n",
      "Feature: 62, Score: 0.00090\n",
      "Feature: 63, Score: 0.00042\n",
      "Feature: 64, Score: 0.00139\n",
      "Feature: 65, Score: 0.00393\n",
      "Feature: 66, Score: 0.00167\n",
      "Feature: 67, Score: 0.00381\n",
      "Feature: 68, Score: 0.00131\n",
      "Feature: 69, Score: 0.00300\n",
      "Feature: 70, Score: 0.00099\n",
      "Feature: 71, Score: 0.00278\n",
      "Feature: 72, Score: 0.00264\n",
      "Feature: 73, Score: 0.00448\n",
      "Feature: 74, Score: 0.00025\n",
      "Feature: 75, Score: 0.00062\n",
      "Feature: 76, Score: 0.00100\n",
      "Feature: 77, Score: 0.00585\n",
      "Feature: 78, Score: 0.00204\n",
      "Feature: 79, Score: 0.00317\n",
      "Feature: 80, Score: 0.00106\n",
      "Feature: 81, Score: 0.00346\n",
      "Feature: 82, Score: 0.00229\n",
      "Feature: 83, Score: 0.00224\n",
      "Feature: 84, Score: 0.00000\n",
      "Feature: 85, Score: 0.00318\n",
      "Feature: 86, Score: 0.00000\n",
      "Feature: 87, Score: 0.00317\n",
      "Feature: 88, Score: 0.00110\n",
      "Feature: 89, Score: 0.00309\n",
      "Feature: 90, Score: 0.00118\n",
      "Feature: 91, Score: 0.00353\n",
      "Feature: 92, Score: 0.00142\n",
      "Feature: 93, Score: 0.00401\n",
      "Feature: 94, Score: 0.00188\n",
      "Feature: 95, Score: 0.00203\n",
      "Feature: 96, Score: 0.00000\n",
      "Feature: 97, Score: 0.00128\n",
      "Feature: 98, Score: 0.00000\n",
      "Feature: 99, Score: 0.00307\n",
      "Feature: 100, Score: 0.00063\n",
      "Feature: 101, Score: 0.00681\n",
      "Feature: 102, Score: 0.00197\n",
      "Feature: 103, Score: 0.00405\n",
      "Feature: 104, Score: 0.00109\n",
      "Feature: 105, Score: 0.00360\n",
      "Feature: 106, Score: 0.00161\n",
      "Feature: 107, Score: 0.00260\n",
      "Feature: 108, Score: 0.00000\n",
      "Feature: 109, Score: 0.00252\n",
      "Feature: 110, Score: 0.00000\n",
      "Feature: 111, Score: 0.00201\n",
      "Feature: 112, Score: 0.00173\n",
      "Feature: 113, Score: 0.00498\n",
      "Feature: 114, Score: 0.00054\n",
      "Feature: 115, Score: 0.00178\n",
      "Feature: 116, Score: 0.00130\n",
      "Feature: 117, Score: 0.00351\n",
      "Feature: 118, Score: 0.00213\n",
      "Feature: 119, Score: 0.00191\n",
      "Feature: 120, Score: 0.00000\n",
      "Feature: 121, Score: 0.00301\n",
      "Feature: 122, Score: 0.00000\n",
      "Feature: 123, Score: 0.00004\n",
      "Feature: 124, Score: 0.00098\n",
      "Feature: 125, Score: 0.00702\n",
      "Feature: 126, Score: 0.00103\n",
      "Feature: 127, Score: 0.00368\n",
      "Feature: 128, Score: 0.00122\n",
      "Feature: 129, Score: 0.00316\n",
      "Feature: 130, Score: 0.00138\n",
      "Feature: 131, Score: 0.00242\n",
      "Feature: 132, Score: 0.00032\n",
      "Feature: 133, Score: 0.00472\n",
      "Feature: 134, Score: 0.00067\n",
      "Feature: 135, Score: 0.00078\n",
      "Feature: 136, Score: 0.00184\n",
      "Feature: 137, Score: 0.00294\n",
      "Feature: 138, Score: 0.00084\n",
      "Feature: 139, Score: 0.00296\n",
      "Feature: 140, Score: 0.00130\n",
      "Feature: 141, Score: 0.00171\n",
      "Feature: 142, Score: 0.00171\n",
      "Feature: 143, Score: 0.00267\n",
      "Feature: 144, Score: 0.00000\n",
      "Feature: 145, Score: 0.00313\n",
      "Feature: 146, Score: 0.00000\n",
      "Feature: 147, Score: 0.00122\n",
      "Feature: 148, Score: 0.00112\n",
      "Feature: 149, Score: 0.00375\n",
      "Feature: 150, Score: 0.00119\n",
      "Feature: 151, Score: 0.00256\n",
      "Feature: 152, Score: 0.00085\n",
      "Feature: 153, Score: 0.00267\n",
      "Feature: 154, Score: 0.00250\n",
      "Feature: 155, Score: 0.00146\n",
      "Feature: 156, Score: 0.00000\n",
      "Feature: 157, Score: 0.00014\n",
      "Feature: 158, Score: 0.00000\n",
      "Feature: 159, Score: 0.00014\n",
      "Feature: 160, Score: 0.00076\n",
      "Feature: 161, Score: 0.00554\n",
      "Feature: 162, Score: 0.00072\n",
      "Feature: 163, Score: 0.00204\n",
      "Feature: 164, Score: 0.00190\n",
      "Feature: 165, Score: 0.00374\n",
      "Feature: 166, Score: 0.00132\n",
      "Feature: 167, Score: 0.00566\n",
      "Feature: 168, Score: 0.00074\n",
      "Feature: 169, Score: 0.00153\n",
      "Feature: 170, Score: 0.00119\n",
      "Feature: 171, Score: 0.00401\n",
      "Feature: 172, Score: 0.00066\n",
      "Feature: 173, Score: 0.00378\n",
      "Feature: 174, Score: 0.00221\n",
      "Feature: 175, Score: 0.00255\n",
      "Feature: 176, Score: 0.00114\n",
      "Feature: 177, Score: 0.00330\n",
      "Feature: 178, Score: 0.00186\n",
      "Feature: 179, Score: 0.00318\n",
      "Feature: 180, Score: 0.00174\n",
      "Feature: 181, Score: 0.00262\n",
      "Feature: 182, Score: 0.00000\n",
      "Feature: 183, Score: 0.00031\n",
      "Feature: 184, Score: 0.00235\n",
      "Feature: 185, Score: 0.00521\n",
      "Feature: 186, Score: 0.00081\n",
      "Feature: 187, Score: 0.00341\n",
      "Feature: 188, Score: 0.00199\n",
      "Feature: 189, Score: 0.00345\n",
      "Feature: 190, Score: 0.00391\n",
      "Feature: 191, Score: 0.00328\n",
      "Feature: 192, Score: 0.00216\n",
      "Feature: 193, Score: 0.00259\n",
      "Feature: 194, Score: 0.00000\n",
      "Feature: 195, Score: 0.00076\n",
      "Feature: 196, Score: 0.00129\n",
      "Feature: 197, Score: 0.00644\n",
      "Feature: 198, Score: 0.00141\n",
      "Feature: 199, Score: 0.00269\n",
      "Feature: 200, Score: 0.00187\n",
      "Feature: 201, Score: 0.00738\n",
      "Feature: 202, Score: 0.00323\n",
      "Feature: 203, Score: 0.00501\n",
      "Feature: 204, Score: 0.00000\n",
      "Feature: 205, Score: 0.00609\n",
      "Feature: 206, Score: 0.00000\n",
      "Feature: 207, Score: 0.00079\n",
      "Feature: 208, Score: 0.00229\n",
      "Feature: 209, Score: 0.00361\n",
      "Feature: 210, Score: 0.00051\n",
      "Feature: 211, Score: 0.00298\n",
      "Feature: 212, Score: 0.00110\n",
      "Feature: 213, Score: 0.00321\n",
      "Feature: 214, Score: 0.00318\n",
      "Feature: 215, Score: 0.00166\n",
      "Feature: 216, Score: 0.00000\n",
      "Feature: 217, Score: 0.00025\n",
      "Feature: 218, Score: 0.00000\n",
      "Feature: 219, Score: 0.00121\n",
      "Feature: 220, Score: 0.00099\n",
      "Feature: 221, Score: 0.00506\n",
      "Feature: 222, Score: 0.00118\n",
      "Feature: 223, Score: 0.00229\n",
      "Feature: 224, Score: 0.00093\n",
      "Feature: 225, Score: 0.00356\n",
      "Feature: 226, Score: 0.00236\n",
      "Feature: 227, Score: 0.00208\n",
      "Feature: 228, Score: 0.00000\n",
      "Feature: 229, Score: 0.00337\n",
      "Feature: 230, Score: 0.00000\n",
      "Feature: 231, Score: 0.00008\n",
      "Feature: 232, Score: 0.00061\n",
      "Feature: 233, Score: 0.00395\n",
      "Feature: 234, Score: 0.00104\n",
      "Feature: 235, Score: 0.00348\n",
      "Feature: 236, Score: 0.00067\n",
      "Feature: 237, Score: 0.00347\n",
      "Feature: 238, Score: 0.00192\n",
      "Feature: 239, Score: 0.00171\n",
      "Feature: 240, Score: 0.00000\n",
      "Feature: 241, Score: 0.00296\n",
      "Feature: 242, Score: 0.00000\n",
      "Feature: 243, Score: 0.00073\n",
      "Feature: 244, Score: 0.00130\n",
      "Feature: 245, Score: 0.00400\n",
      "Feature: 246, Score: 0.00073\n",
      "Feature: 247, Score: 0.00269\n",
      "Feature: 248, Score: 0.00097\n",
      "Feature: 249, Score: 0.00162\n",
      "Feature: 250, Score: 0.00235\n",
      "Feature: 251, Score: 0.00449\n",
      "Feature: 252, Score: 0.00134\n",
      "Feature: 253, Score: 0.00298\n",
      "Feature: 254, Score: 0.00020\n",
      "Feature: 255, Score: 0.00150\n",
      "Feature: 256, Score: 0.00151\n",
      "Feature: 257, Score: 0.00416\n",
      "Feature: 258, Score: 0.00209\n",
      "Feature: 259, Score: 0.00239\n",
      "Feature: 260, Score: 0.00083\n",
      "Feature: 261, Score: 0.00344\n",
      "Feature: 262, Score: 0.00241\n",
      "Feature: 263, Score: 0.00470\n",
      "Feature: 264, Score: 0.00000\n",
      "Feature: 265, Score: 0.00346\n",
      "Feature: 266, Score: 0.00000\n",
      "Feature: 267, Score: 0.00130\n",
      "Feature: 268, Score: 0.00159\n",
      "Feature: 269, Score: 0.00236\n",
      "Feature: 270, Score: 0.00126\n",
      "Feature: 271, Score: 0.00396\n",
      "Feature: 272, Score: 0.00203\n",
      "Feature: 273, Score: 0.00319\n",
      "Feature: 274, Score: 0.00336\n",
      "Feature: 275, Score: 0.00193\n",
      "Feature: 276, Score: 0.00000\n",
      "Feature: 277, Score: 0.00007\n",
      "Feature: 278, Score: 0.00000\n",
      "Feature: 279, Score: 0.00003\n",
      "Feature: 280, Score: 0.00130\n",
      "Feature: 281, Score: 0.00573\n",
      "Feature: 282, Score: 0.00203\n",
      "Feature: 283, Score: 0.00505\n",
      "Feature: 284, Score: 0.00095\n",
      "Feature: 285, Score: 0.00270\n",
      "Feature: 286, Score: 0.00134\n",
      "Feature: 287, Score: 0.00426\n",
      "Feature: 288, Score: 0.00156\n",
      "Feature: 289, Score: 0.00356\n",
      "Feature: 290, Score: 0.00079\n",
      "Feature: 291, Score: 0.00257\n",
      "Feature: 292, Score: 0.00143\n",
      "Feature: 293, Score: 0.00777\n",
      "Feature: 294, Score: 0.00095\n",
      "Feature: 295, Score: 0.00220\n",
      "Feature: 296, Score: 0.00162\n",
      "Feature: 297, Score: 0.00274\n",
      "Feature: 298, Score: 0.00134\n",
      "Feature: 299, Score: 0.00240\n",
      "Feature: 300, Score: 0.00000\n",
      "Feature: 301, Score: 0.00149\n",
      "Feature: 302, Score: 0.00000\n",
      "Feature: 303, Score: 0.00065\n",
      "Feature: 304, Score: 0.00100\n",
      "Feature: 305, Score: 0.00612\n",
      "Feature: 306, Score: 0.00145\n",
      "Feature: 307, Score: 0.00446\n",
      "Feature: 308, Score: 0.00146\n",
      "Feature: 309, Score: 0.00178\n",
      "Feature: 310, Score: 0.00188\n",
      "Feature: 311, Score: 0.00229\n",
      "Feature: 312, Score: 0.00139\n",
      "Feature: 313, Score: 0.00275\n",
      "Feature: 314, Score: 0.00000\n",
      "Feature: 315, Score: 0.00075\n",
      "Feature: 316, Score: 0.00147\n",
      "Feature: 317, Score: 0.00625\n",
      "Feature: 318, Score: 0.00119\n",
      "Feature: 319, Score: 0.00248\n",
      "Feature: 320, Score: 0.00086\n",
      "Feature: 321, Score: 0.00225\n",
      "Feature: 322, Score: 0.00186\n",
      "Feature: 323, Score: 0.00436\n",
      "Feature: 324, Score: 0.00000\n",
      "Feature: 325, Score: 0.00402\n",
      "Feature: 326, Score: 0.00000\n",
      "Feature: 327, Score: 0.00269\n",
      "Feature: 328, Score: 0.00081\n",
      "Feature: 329, Score: 0.00297\n",
      "Feature: 330, Score: 0.00073\n",
      "Feature: 331, Score: 0.00245\n",
      "Feature: 332, Score: 0.00153\n",
      "Feature: 333, Score: 0.00382\n",
      "Feature: 334, Score: 0.00164\n",
      "Feature: 335, Score: 0.00236\n",
      "Feature: 336, Score: 0.00000\n",
      "Feature: 337, Score: 0.00026\n",
      "Feature: 338, Score: 0.00000\n",
      "Feature: 339, Score: 0.00147\n",
      "Feature: 340, Score: 0.00119\n",
      "Feature: 341, Score: 0.00429\n",
      "Feature: 342, Score: 0.00174\n",
      "Feature: 343, Score: 0.00293\n",
      "Feature: 344, Score: 0.00039\n",
      "Feature: 345, Score: 0.00243\n",
      "Feature: 346, Score: 0.00134\n",
      "Feature: 347, Score: 0.00268\n",
      "Feature: 348, Score: 0.00000\n",
      "Feature: 349, Score: 0.00185\n",
      "Feature: 350, Score: 0.00000\n",
      "Feature: 351, Score: 0.00058\n",
      "Feature: 352, Score: 0.00104\n",
      "Feature: 353, Score: 0.00302\n",
      "Feature: 354, Score: 0.00128\n",
      "Feature: 355, Score: 0.00341\n",
      "Feature: 356, Score: 0.00078\n",
      "Feature: 357, Score: 0.00304\n",
      "Feature: 358, Score: 0.00240\n",
      "Feature: 359, Score: 0.00192\n",
      "Feature: 360, Score: 0.00000\n",
      "Feature: 361, Score: 0.00329\n",
      "Feature: 362, Score: 0.00000\n",
      "Feature: 363, Score: 0.00000\n",
      "Feature: 364, Score: 0.00112\n",
      "Feature: 365, Score: 0.00465\n",
      "Feature: 366, Score: 0.00147\n",
      "Feature: 367, Score: 0.00458\n",
      "Feature: 368, Score: 0.00110\n",
      "Feature: 369, Score: 0.00449\n",
      "Feature: 370, Score: 0.00251\n",
      "Feature: 371, Score: 0.00302\n",
      "Feature: 372, Score: 0.00000\n",
      "Feature: 373, Score: 0.00168\n",
      "Feature: 374, Score: 0.00000\n",
      "Feature: 375, Score: 0.00240\n",
      "Feature: 376, Score: 0.00153\n",
      "Feature: 377, Score: 0.00533\n",
      "Feature: 378, Score: 0.00088\n",
      "Feature: 379, Score: 0.00437\n",
      "Feature: 380, Score: 0.00060\n",
      "Feature: 381, Score: 0.00473\n",
      "Feature: 382, Score: 0.00126\n",
      "Feature: 383, Score: 0.00301\n",
      "Feature: 384, Score: 0.00000\n",
      "Feature: 385, Score: 0.00032\n",
      "Feature: 386, Score: 0.00000\n",
      "Feature: 387, Score: 0.00000\n",
      "Feature: 388, Score: 0.00039\n",
      "Feature: 389, Score: 0.00096\n",
      "Feature: 390, Score: 0.00033\n",
      "Feature: 391, Score: 0.00061\n",
      "Feature: 392, Score: 0.00048\n",
      "Feature: 393, Score: 0.00070\n",
      "Feature: 394, Score: 0.00086\n",
      "Feature: 395, Score: 0.00083\n",
      "Feature: 396, Score: 0.00080\n",
      "Feature: 397, Score: 0.00271\n",
      "Feature: 398, Score: 0.00140\n",
      "Feature: 399, Score: 0.00575\n",
      "Feature: 400, Score: 0.00110\n",
      "Feature: 401, Score: 0.00382\n",
      "Feature: 402, Score: 0.00049\n",
      "Feature: 403, Score: 0.00192\n",
      "Feature: 404, Score: 0.00101\n",
      "Feature: 405, Score: 0.00499\n",
      "Feature: 406, Score: 0.00133\n",
      "Feature: 407, Score: 0.00316\n",
      "Feature: 408, Score: 0.00102\n",
      "Feature: 409, Score: 0.00203\n",
      "Feature: 410, Score: 0.00157\n",
      "Feature: 411, Score: 0.00560\n",
      "Feature: 412, Score: 0.00110\n",
      "Feature: 413, Score: 0.00424\n",
      "Feature: 414, Score: 0.00093\n",
      "Feature: 415, Score: 0.00476\n",
      "Feature: 416, Score: 0.00087\n",
      "Feature: 417, Score: 0.00253\n",
      "Feature: 418, Score: 0.00285\n",
      "Feature: 419, Score: 0.00230\n",
      "Feature: 420, Score: 0.00160\n",
      "Feature: 421, Score: 0.00188\n",
      "Feature: 422, Score: 0.00147\n",
      "Feature: 423, Score: 0.00403\n",
      "Feature: 424, Score: 0.00062\n",
      "Feature: 425, Score: 0.00750\n",
      "Feature: 426, Score: 0.00200\n",
      "Feature: 427, Score: 0.00199\n",
      "Feature: 428, Score: 0.00062\n",
      "Feature: 429, Score: 0.00233\n",
      "Feature: 430, Score: 0.00176\n",
      "Feature: 431, Score: 0.00264\n",
      "Feature: 432, Score: 0.00029\n",
      "Feature: 433, Score: 0.00451\n",
      "Feature: 434, Score: 0.00116\n",
      "Feature: 435, Score: 0.00460\n",
      "Feature: 436, Score: 0.00100\n",
      "Feature: 437, Score: 0.00586\n",
      "Feature: 438, Score: 0.00088\n",
      "Feature: 439, Score: 0.00313\n",
      "Feature: 440, Score: 0.00124\n",
      "Feature: 441, Score: 0.00257\n",
      "Feature: 442, Score: 0.00154\n",
      "Feature: 443, Score: 0.00433\n",
      "Feature: 444, Score: 0.00097\n",
      "Feature: 445, Score: 0.00650\n",
      "Feature: 446, Score: 0.00114\n",
      "Feature: 447, Score: 0.00386\n",
      "Feature: 448, Score: 0.00143\n",
      "Feature: 449, Score: 0.00566\n",
      "Feature: 450, Score: 0.00170\n",
      "Feature: 451, Score: 0.00297\n",
      "Feature: 452, Score: 0.00045\n",
      "Feature: 453, Score: 0.00301\n",
      "Feature: 454, Score: 0.00046\n",
      "Feature: 455, Score: 0.00515\n",
      "Feature: 456, Score: 0.00075\n",
      "Feature: 457, Score: 0.00240\n",
      "Feature: 458, Score: 0.00071\n",
      "Feature: 459, Score: 0.00674\n",
      "Feature: 460, Score: 0.00111\n",
      "Feature: 461, Score: 0.00603\n",
      "Feature: 462, Score: 0.00101\n",
      "Feature: 463, Score: 0.00228\n",
      "Feature: 464, Score: 0.00033\n",
      "Feature: 465, Score: 0.00210\n",
      "Feature: 466, Score: 0.00177\n",
      "Feature: 467, Score: 0.00286\n",
      "Feature: 468, Score: 0.00241\n",
      "Feature: 469, Score: 0.00338\n",
      "Feature: 470, Score: 0.00115\n",
      "Feature: 471, Score: 0.00444\n",
      "Feature: 472, Score: 0.00082\n",
      "Feature: 473, Score: 0.00594\n",
      "Feature: 474, Score: 0.00050\n",
      "Feature: 475, Score: 0.00255\n",
      "Feature: 476, Score: 0.00136\n",
      "Feature: 477, Score: 0.00271\n",
      "Feature: 478, Score: 0.00205\n",
      "Feature: 479, Score: 0.00273\n"
     ]
    }
   ],
   "source": [
    "# Summarize feature importance\n",
    "importance = classifier.feature_importances_\n",
    "\n",
    "for i,v in enumerate(importance): # Loop through all importance\n",
    "    print('Feature: %0d, Score: %.5f' % (i,v)) # print out the importance of each features"
   ]
  },
  {
   "cell_type": "code",
   "execution_count": 517,
   "metadata": {},
   "outputs": [
    {
     "data": {
      "image/png": "[encoded data removed]",
      "text/plain": [
       "<Figure size 432x288 with 1 Axes>"
      ]
     },
     "metadata": {
      "needs_background": "light"
     },
     "output_type": "display_data"
    }
   ],
   "source": [
    "# plot feature importance\n",
    "plt.bar([x for x in range(len(importance))], importance, align='center', orientation='vertical') # Plot bar \n",
    "plt.ylabel(\"Importance\") # Set ylabel\n",
    "plt.xlabel(\"Input variables\")# Set xlabel\n",
    "plt.show()# Show plot importance of input variables in RF classifier"
   ]
  },
  {
   "cell_type": "markdown",
   "metadata": {},
   "source": [
    "### 4. Save RF classified results"
   ]
  },
  {
   "cell_type": "code",
   "execution_count": 518,
   "metadata": {},
   "outputs": [
    {
     "name": "stdout",
     "output_type": "stream",
     "text": [
      "RF Classification Done!\n"
     ]
    }
   ],
   "source": [
    "\n",
    "clf = np.copy(segments) # Copy segmented image\n",
    "# Link the segment ID to the predicted values\n",
    "for segment_id, klass in zip(segment_ids, predicted):\n",
    "    clf[clf == segment_id] = klass # Create classification image array\n",
    "# Make a mask to exlude nodata\n",
    "mask = np.sum(img, axis=2) \n",
    "mask[mask > 0.0] = 1.0\n",
    "mask[mask == 0.0] = -1.0\n",
    "\n",
    "clf = np.multiply(clf, mask) # Apply mask to classification image\n",
    "clf[clf < 0] = -9999.0 # Set NoData Value\n",
    "\n",
    "# Save Classified Results\n",
    "clf_ds = driverTiff.Create(('results/rf_classified_image_{}.tif').format(set_scale), naip_ds.RasterXSize, naip_ds.RasterYSize, 1, gdal.GDT_Float32)\n",
    "clf_ds.SetGeoTransform(naip_ds.GetGeoTransform()) # Transform\n",
    "clf_ds.SetProjection(naip_ds.GetProjection())# Set Projection\n",
    "clf_ds.GetRasterBand(1).SetNoDataValue(-9999.0)# Set nodata value\n",
    "clf_ds.GetRasterBand(1).WriteArray(clf)# Save to raster\n",
    "clf_ds = None\n",
    "\n",
    "print('RF Classification Done!') "
   ]
  },
  {
   "cell_type": "markdown",
   "metadata": {},
   "source": [
    "### 5. Assessment of classification accuracy"
   ]
  },
  {
   "cell_type": "code",
   "execution_count": 519,
   "metadata": {},
   "outputs": [
    {
     "name": "stdout",
     "output_type": "stream",
     "text": [
      "[[45  6  4  0  4  5  0  0]\n",
      " [ 6 29  9  0  2  0  4  0]\n",
      " [ 6  5 59  0  1  0 13  1]\n",
      " [15  1  1  7  1  0  1  0]\n",
      " [ 7  4  4  0  9  0  0  0]\n",
      " [ 6  1  1  0  0 19  1  0]\n",
      " [11  1  0  0  0  0  3  0]\n",
      " [ 4  0  1  0  0  0  0  3]]\n",
      "[45 29 59  7  9 19  3  3]\n"
     ]
    }
   ],
   "source": [
    "from sklearn import metrics # import evaluation metrics\n",
    " \n",
    "# Import test data\n",
    "# Rasterize test data for pixel-to-pixel comparison\n",
    "test_fn = 'data/ground_truth/test.shp' # Path to test data\n",
    "test_ds = ogr.Open(test_fn) # Opent test data\n",
    "lyr = test_ds.GetLayer() # As layer\n",
    "driver = gdal.GetDriverByName('MEM') # Create raster in memeory\n",
    "target_ds = driver.Create('', naip_ds.RasterXSize, naip_ds.RasterYSize, 1, gdal.GDT_UInt16)\n",
    "target_ds.SetGeoTransform(naip_ds.GetGeoTransform()) # Copy geo info\n",
    "target_ds.SetProjection(naip_ds.GetProjection()) # Set projection\n",
    "options = ['ATTRIBUTE=id']\n",
    "gdal.RasterizeLayer(target_ds, [1], lyr, options=options) # Create raster layer for test data\n",
    " \n",
    "truth = target_ds.GetRasterBand(1).ReadAsArray()  # truth/test data array\n",
    " \n",
    "pred_ds = gdal.Open(('results/rf_classified_image_{}.tif').format(set_scale)) # open classified image\n",
    "\n",
    "pred = pred_ds.GetRasterBand(1).ReadAsArray()  # predicted data array\n",
    "idx = np.nonzero(truth) # get indices where truth/test has data values\n",
    "cm = metrics.confusion_matrix(truth[idx], pred[idx])  # create a confusion matrix at the truth/test locations\n",
    " \n",
    "# pixel accuracy\n",
    "print(cm) # print out confusion matrix\n",
    "print(cm.diagonal()) # The diagonal values of confusion matrix"
   ]
  },
  {
   "cell_type": "code",
   "execution_count": 520,
   "metadata": {},
   "outputs": [
    {
     "data": {
      "image/png": "[encoded data removed]",
      "text/plain": [
       "<Figure size 432x432 with 2 Axes>"
      ]
     },
     "metadata": {
      "needs_background": "light"
     },
     "output_type": "display_data"
    }
   ],
   "source": [
    "import scikitplot as skplt\n",
    "\n",
    "skplt.metrics.plot_confusion_matrix(\n",
    "    truth[idx], \n",
    "    pred[idx],\n",
    "    figsize=(6,6))\n",
    "\n",
    "plt.savefig('results/rf_cm.png')"
   ]
  },
  {
   "cell_type": "code",
   "execution_count": 521,
   "metadata": {
    "scrolled": true
   },
   "outputs": [
    {
     "name": "stdout",
     "output_type": "stream",
     "text": [
      "RF Classification report:\n",
      "               precision    recall  f1-score   support\n",
      "\n",
      "           1       0.45      0.70      0.55        64\n",
      "           2       0.62      0.58      0.60        50\n",
      "           3       0.75      0.69      0.72        85\n",
      "           4       1.00      0.27      0.42        26\n",
      "           5       0.53      0.38      0.44        24\n",
      "           6       0.79      0.68      0.73        28\n",
      "           7       0.14      0.20      0.16        15\n",
      "           8       0.75      0.38      0.50         8\n",
      "\n",
      "    accuracy                           0.58       300\n",
      "   macro avg       0.63      0.48      0.52       300\n",
      "weighted avg       0.64      0.58      0.58       300\n",
      "\n",
      "kappa: 0.4815597097831603\n"
     ]
    }
   ],
   "source": [
    "# Plot accuracy report\n",
    "from sklearn.metrics import classification_report, confusion_matrix, accuracy_score\n",
    "\n",
    "print('RF Classification report:\\n',classification_report(truth[idx], pred[idx]))\n",
    "from sklearn.metrics import cohen_kappa_score\n",
    "kappa = cohen_kappa_score(truth[idx], pred[idx])\n",
    "print('kappa:',kappa)"
   ]
  },
  {
   "cell_type": "code",
   "execution_count": 522,
   "metadata": {},
   "outputs": [
    {
     "name": "stdout",
     "output_type": "stream",
     "text": [
      "kappa: 0.4815597097831603\n"
     ]
    }
   ],
   "source": [
    "from sklearn.metrics import cohen_kappa_score\n",
    "kappa = cohen_kappa_score(truth[idx], pred[idx])\n",
    "print('kappa:',kappa)"
   ]
  },
  {
   "cell_type": "code",
   "execution_count": 523,
   "metadata": {},
   "outputs": [
    {
     "data": {
      "image/png": "[encoded data removed]",
      "text/plain": [
       "<Figure size 576x432 with 2 Axes>"
      ]
     },
     "metadata": {
      "needs_background": "light"
     },
     "output_type": "display_data"
    }
   ],
   "source": [
    "# Plot classification image\n",
    "plt.figure(figsize=(8, 6)) # set plot size\n",
    "plt.imshow(pred, cmap='YlGn')# show classification image\n",
    "plt.colorbar() # set colorbar\n",
    "plt.axis('off') # close axis\n",
    "plt.title('RF Classification') # set title\n",
    "plt.savefig('results/RF_Classification.png') # save figure\n",
    "plt.show() # show plot"
   ]
  },
  {
   "cell_type": "markdown",
   "metadata": {},
   "source": [
    "## SVM classification \n",
    "### Train SVM classifier"
   ]
  },
  {
   "cell_type": "code",
   "execution_count": null,
   "metadata": {},
   "outputs": [],
   "source": []
  },
  {
   "cell_type": "code",
   "execution_count": 540,
   "metadata": {},
   "outputs": [
    {
     "name": "stdout",
     "output_type": "stream",
     "text": [
      "Fitting SVM Classifier...\n",
      "Fitting complete!\n",
      "\n",
      "Training SVM costs 0.014466285705566406 seconds.\n",
      "\n"
     ]
    }
   ],
   "source": [
    "from sklearn.svm import SVC\n",
    "\n",
    "svm = SVC(kernel='rbf',degree = 5, C=10, gamma=0.001) # set SVM parameters\n",
    "\n",
    "start_time=time.time() # record start time\n",
    "print('Fitting SVM Classifier...') # print start training\n",
    "\n",
    "svm.fit(training_objects, training_labels) # train SVM\n",
    "\n",
    "end_time = time.time() # record end time\n",
    "print('Fitting complete!\\n')\n",
    "print('Training SVM costs',end_time-start_time,'seconds.\\n') # print cost of time\n"
   ]
  },
  {
   "cell_type": "code",
   "execution_count": 541,
   "metadata": {},
   "outputs": [
    {
     "name": "stdout",
     "output_type": "stream",
     "text": [
      "Predicting Classifications...\n",
      "Predicting complete!\n"
     ]
    }
   ],
   "source": [
    "print('Predicting Classifications...')\n",
    "# Predict all the object labels\n",
    "predicted = svm.predict(objects)\n",
    "print('Predicting complete!')"
   ]
  },
  {
   "cell_type": "markdown",
   "metadata": {},
   "source": [
    "### Save SVM  classified results "
   ]
  },
  {
   "cell_type": "code",
   "execution_count": 542,
   "metadata": {},
   "outputs": [
    {
     "name": "stdout",
     "output_type": "stream",
     "text": [
      "SVM Classification Done!\n"
     ]
    }
   ],
   "source": [
    "clf = np.copy(segments) # Copy segmented image\n",
    "# Link the segment ID to the predicted values\n",
    "for segment_id, klass in zip(segment_ids, predicted):\n",
    "    clf[clf == segment_id] = klass # Create classification image array\n",
    "# Make a mask to exlude nodata\n",
    "mask = np.sum(img, axis=2) \n",
    "mask[mask > 0.0] = 1.0\n",
    "mask[mask == 0.0] = -1.0\n",
    "\n",
    "clf = np.multiply(clf, mask) # Apply mask to classification image\n",
    "clf[clf < 0] = -9999.0 # Set NoData Value\n",
    "\n",
    "# Save Classified Results\n",
    "clf_ds = driverTiff.Create(('results/svm_classified_image_{}.tif').format(set_scale), naip_ds.RasterXSize, naip_ds.RasterYSize, 1, gdal.GDT_Float32)\n",
    "clf_ds.SetGeoTransform(naip_ds.GetGeoTransform()) # Transform\n",
    "clf_ds.SetProjection(naip_ds.GetProjection())# Set Projection\n",
    "clf_ds.GetRasterBand(1).SetNoDataValue(-9999.0)# Set nodata value\n",
    "clf_ds.GetRasterBand(1).WriteArray(clf)# Save to raster\n",
    "clf_ds = None\n",
    "\n",
    "print('SVM Classification Done!') "
   ]
  },
  {
   "cell_type": "markdown",
   "metadata": {},
   "source": [
    "### Assessment of classification accuracy"
   ]
  },
  {
   "cell_type": "code",
   "execution_count": 543,
   "metadata": {
    "scrolled": true
   },
   "outputs": [
    {
     "name": "stdout",
     "output_type": "stream",
     "text": [
      "Confusion matrix:\n",
      " [[44 18  1  0  0  1  0  0]\n",
      " [ 1 45  4  0  0  0  0  0]\n",
      " [ 3 31 51  0  0  0  0  0]\n",
      " [ 5 16  0  5  0  0  0  0]\n",
      " [ 1 20  0  1  2  0  0  0]\n",
      " [13  3  0  0  0 12  0  0]\n",
      " [ 2 11  0  0  0  0  2  0]\n",
      " [ 1  4  0  0  0  0  0  3]] \n",
      "\n",
      "Diagonal of confusion matrix:\n",
      " [44 45 51  5  2 12  2  3] \n",
      "\n",
      "SVM Classification report:\n",
      "               precision    recall  f1-score   support\n",
      "\n",
      "           1       0.63      0.69      0.66        64\n",
      "           2       0.30      0.90      0.45        50\n",
      "           3       0.91      0.60      0.72        85\n",
      "           4       0.83      0.19      0.31        26\n",
      "           5       1.00      0.08      0.15        24\n",
      "           6       0.92      0.43      0.59        28\n",
      "           7       1.00      0.13      0.24        15\n",
      "           8       1.00      0.38      0.55         8\n",
      "\n",
      "    accuracy                           0.55       300\n",
      "   macro avg       0.82      0.43      0.46       300\n",
      "weighted avg       0.76      0.55      0.54       300\n",
      "\n",
      "kappa: 0.43908273529654374\n"
     ]
    },
    {
     "data": {
      "image/png": "[encoded data removed]",
      "text/plain": [
       "<Figure size 432x432 with 2 Axes>"
      ]
     },
     "metadata": {
      "needs_background": "light"
     },
     "output_type": "display_data"
    },
    {
     "data": {
      "image/png": "[encoded data removed]",
      "text/plain": [
       "<Figure size 576x432 with 2 Axes>"
      ]
     },
     "metadata": {
      "needs_background": "light"
     },
     "output_type": "display_data"
    }
   ],
   "source": [
    "from sklearn.metrics import classification_report, confusion_matrix, accuracy_score\n",
    "from sklearn import metrics # import evaluation metrics\n",
    "import scikitplot as skplt\n",
    "# Import test data\n",
    "# Rasterize test data for pixel-to-pixel comparison\n",
    "test_fn = 'data/ground_truth/test.shp' # Path to test data\n",
    "test_ds = ogr.Open(test_fn) # Opent test data\n",
    "lyr = test_ds.GetLayer() # As layer\n",
    "driver = gdal.GetDriverByName('MEM') # Create raster in memeory\n",
    "target_ds = driver.Create('', naip_ds.RasterXSize, naip_ds.RasterYSize, 1, gdal.GDT_UInt16)\n",
    "target_ds.SetGeoTransform(naip_ds.GetGeoTransform()) # Copy geo info\n",
    "target_ds.SetProjection(naip_ds.GetProjection()) # Set projection\n",
    "options = ['ATTRIBUTE=id']\n",
    "gdal.RasterizeLayer(target_ds, [1], lyr, options=options) # Create raster layer for test data\n",
    " \n",
    "truth = target_ds.GetRasterBand(1).ReadAsArray()  # truth/test data array\n",
    " \n",
    "pred_ds = gdal.Open(('results/svm_classified_image_{}.tif').format(set_scale)) # open classified image\n",
    "pred = pred_ds.GetRasterBand(1).ReadAsArray()  # predicted data array\n",
    "idx = np.nonzero(truth) # get indices where truth/test has data values\n",
    "cm = metrics.confusion_matrix(truth[idx], pred[idx])  # create a confusion matrix at the truth/test locations\n",
    " \n",
    "# pixel accuracy\n",
    "print('Confusion matrix:\\n',cm,'\\n') # print out confusion matrix\n",
    "print('Diagonal of confusion matrix:\\n',cm.diagonal(),'\\n') # The diagonal values of confusion matrix\n",
    "\n",
    "# Plot confusion matrix\n",
    "skplt.metrics.plot_confusion_matrix(\n",
    "    truth[idx], \n",
    "    pred[idx],\n",
    "    figsize=(6,6), cmap='BuGn')\n",
    "\n",
    "# Plot accuracy report\n",
    "print('SVM Classification report:\\n',classification_report(truth[idx], pred[idx]))\n",
    "\n",
    "kappa = cohen_kappa_score(truth[idx], pred[idx])\n",
    "print('kappa:',kappa)\n",
    "\n",
    "# Plot classification image\n",
    "plt.figure(figsize=(8, 6)) # set plot size\n",
    "plt.imshow(pred, cmap='YlGn')# show classification image\n",
    "plt.colorbar() # set colorbar\n",
    "plt.axis('off') # close axis\n",
    "plt.title('SVM Classification') # set title\n",
    "plt.savefig('SVM_Classification.png') # save figure\n",
    "plt.show() # show plot"
   ]
  },
  {
   "cell_type": "code",
   "execution_count": null,
   "metadata": {},
   "outputs": [],
   "source": []
  }
 ],
 "metadata": {
  "kernelspec": {
   "display_name": "Python 3",
   "language": "python",
   "name": "python3"
  },
  "language_info": {
   "codemirror_mode": {
    "name": "ipython",
    "version": 3
   },
   "file_extension": ".py",
   "mimetype": "text/x-python",
   "name": "python",
   "nbconvert_exporter": "python",
   "pygments_lexer": "ipython3",
   "version": "3.7.9"
  }
 },
 "nbformat": 4,
 "nbformat_minor": 4
}
